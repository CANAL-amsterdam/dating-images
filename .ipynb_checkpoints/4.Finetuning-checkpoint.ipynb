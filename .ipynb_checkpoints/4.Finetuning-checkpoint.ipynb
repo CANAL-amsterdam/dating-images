{
 "cells": [
  {
   "cell_type": "markdown",
   "metadata": {
    "id": "q_GTANnOacK_"
   },
   "source": [
    "# Fine-tuning OpenCLIP\n",
    "\n",
    "We used this notebook to train a logistic classifier using the OpenCLIP image embeddings."
   ]
  },
  {
   "cell_type": "code",
   "execution_count": null,
   "metadata": {
    "id": "wyhDCwn7d9ze"
   },
   "outputs": [],
   "source": [
    "import torch\n",
    "import json\n",
    "import os\n",
    "import time\n",
    "import pickle\n",
    "\n",
    "from google.colab import drive\n",
    "\n",
    "from sklearn.linear_model import LogisticRegression\n",
    "from sklearn.model_selection import cross_val_score, StratifiedKFold\n",
    "from sklearn.metrics import accuracy_score"
   ]
  },
  {
   "cell_type": "code",
   "execution_count": null,
   "metadata": {
    "colab": {
     "base_uri": "https://localhost:8080/"
    },
    "executionInfo": {
     "elapsed": 18331,
     "status": "ok",
     "timestamp": 1689773130279,
     "user": {
      "displayName": "Alexandra Barancova",
      "userId": "12338395437089192895"
     },
     "user_tz": -120
    },
    "id": "GNWWKxh1s4cm",
    "outputId": "9e5fa916-5870-4568-f6d6-63f559af076c"
   },
   "outputs": [
    {
     "name": "stdout",
     "output_type": "stream",
     "text": [
      "Mounted at /content/drive\n"
     ]
    }
   ],
   "source": [
    "drive.mount('/content/drive', force_remount=True)"
   ]
  },
  {
   "cell_type": "code",
   "execution_count": null,
   "metadata": {
    "id": "k2idyjzhXTDt"
   },
   "outputs": [],
   "source": [
    "data_folder = '/content/drive/MyDrive/dating-images/data/'\n",
    "model_folder = '/content/drive/My Drive/dating-images/models/'"
   ]
  },
  {
   "cell_type": "code",
   "execution_count": null,
   "metadata": {
    "id": "Q0aV9rBCd9zi"
   },
   "outputs": [],
   "source": [
    "os.makedirs(model_folder, exist_ok=True)"
   ]
  },
  {
   "cell_type": "code",
   "execution_count": null,
   "metadata": {
    "id": "-7Mu9-0yd9zh"
   },
   "outputs": [],
   "source": [
    "device = 'cuda' if torch.cuda.is_available() else \"cpu\""
   ]
  },
  {
   "cell_type": "markdown",
   "metadata": {
    "id": "ei81Uy5Rd9zn"
   },
   "source": [
    "## Load image embeddings and labels"
   ]
  },
  {
   "cell_type": "code",
   "execution_count": null,
   "metadata": {
    "id": "Sg0nXN-bAMzQ"
   },
   "outputs": [],
   "source": [
    "# helpers to load and save pickle and json files\n",
    "\n",
    "def loadPKL(path):\n",
    "  infile = open(path,'rb')\n",
    "  X = pickle.load(infile)\n",
    "  print('Loaded ' + path.split('/')[-1])\n",
    "  return X\n",
    "\n",
    "def savePKL(data, path):\n",
    "  with open(path, 'wb') as f:\n",
    "    pickle.dump(data, f)\n",
    "  print('Saved ' + path.split('/')[-1])\n",
    "\n",
    "def loadJSON(path):\n",
    "  infile = open(path,'rb')\n",
    "  X = json.load(infile)\n",
    "  print('Loaded ' + path.split('/')[-1])\n",
    "  return X\n",
    "\n",
    "def saveJSON(data, path):\n",
    "  with open(path, 'w') as jsonfile:\n",
    "    json.dump(data, jsonfile)\n",
    "  print('Saved ' + path.split('/')[-1])"
   ]
  },
  {
   "cell_type": "code",
   "execution_count": null,
   "metadata": {
    "colab": {
     "base_uri": "https://localhost:8080/"
    },
    "executionInfo": {
     "elapsed": 923,
     "status": "ok",
     "timestamp": 1689774531122,
     "user": {
      "displayName": "Alexandra Barancova",
      "userId": "12338395437089192895"
     },
     "user_tz": -120
    },
    "id": "QYbAJGC4A4pi",
    "outputId": "6ed85df3-065d-47dd-fd59-face5d8735be"
   },
   "outputs": [
    {
     "name": "stdout",
     "output_type": "stream",
     "text": [
      "Loaded image_data.json\n",
      "Loaded embeddings.pkl\n",
      "Loaded embeddings_colorized.pkl\n"
     ]
    }
   ],
   "source": [
    "image_data = loadJSON(data_folder + 'image_data.json')\n",
    "embeddings = loadPKL(data_folder + 'embeddings.pkl')\n",
    "embeddings_colorized = loadPKL(data_folder + 'embeddings_colorized.pkl')"
   ]
  },
  {
   "cell_type": "code",
   "execution_count": null,
   "metadata": {
    "colab": {
     "base_uri": "https://localhost:8080/"
    },
    "executionInfo": {
     "elapsed": 265,
     "status": "ok",
     "timestamp": 1689774798901,
     "user": {
      "displayName": "Alexandra Barancova",
      "userId": "12338395437089192895"
     },
     "user_tz": -120
    },
    "id": "VuXLeMd2ClsD",
    "outputId": "71408b15-5dda-44e7-c80a-58a3c14c444a"
   },
   "outputs": [
    {
     "name": "stdout",
     "output_type": "stream",
     "text": [
      "(1980, 1951, 1994, 1963, 1986, 1954, 1989, 1993, 1985, 1993)\n"
     ]
    }
   ],
   "source": [
    "# image_data = [[path, data, year, scene, train/test], ... ]\n",
    "\n",
    "years = list(zip(*image_data))[2]\n",
    "print(years[:10])"
   ]
  },
  {
   "cell_type": "markdown",
   "metadata": {
    "id": "KvCIbncsPvTa"
   },
   "source": [
    "## Make classifier"
   ]
  },
  {
   "cell_type": "code",
   "execution_count": null,
   "metadata": {
    "id": "PA65X4LvRnZQ"
   },
   "outputs": [],
   "source": [
    "clf = LogisticRegression(random_state=0, max_iter=5000, verbose=0)"
   ]
  },
  {
   "cell_type": "markdown",
   "metadata": {
    "id": "ZSRzAnsVP8MT"
   },
   "source": [
    "## Split data\n",
    "\n",
    "Using assigned `'train'` and `'test'` labels saved with the image metadata."
   ]
  },
  {
   "cell_type": "code",
   "execution_count": null,
   "metadata": {
    "id": "3KO3fcXmD6Gl"
   },
   "outputs": [],
   "source": [
    "# image_data = [[path, data, year, scene, train/test], ... ]\n",
    "\n",
    "def split_train_test_sets(image_data, list_to_split):\n",
    "  train = []\n",
    "  test = []\n",
    "  for i, item in enumerate(image_data):\n",
    "    if item[-1]=='train':\n",
    "      train.append(list_to_split[i])\n",
    "      continue\n",
    "    if item[-1]=='test':\n",
    "      test.append(list_to_split[i])\n",
    "      continue\n",
    "    else:\n",
    "      print(\"train/test set not assigned for image index \" + str(i)) # this shouldn't happen\n",
    "  return train, test"
   ]
  },
  {
   "cell_type": "code",
   "execution_count": null,
   "metadata": {
    "id": "YgRnkLN3d9zu"
   },
   "outputs": [],
   "source": [
    "X_train, X_test = split_train_test_sets(image_data, embeddings)\n",
    "years_train, years_test = split_train_test_sets(image_data, years)"
   ]
  },
  {
   "cell_type": "markdown",
   "metadata": {
    "id": "wZG3a_pId9zv"
   },
   "source": [
    "## Train classifier\n",
    "\n",
    "We followed the same process to train and evaluate a classifier using the embeddings made from the colorized images."
   ]
  },
  {
   "cell_type": "code",
   "execution_count": null,
   "metadata": {
    "colab": {
     "base_uri": "https://localhost:8080/"
    },
    "executionInfo": {
     "elapsed": 446273,
     "status": "ok",
     "timestamp": 1689774439378,
     "user": {
      "displayName": "Alexandra Barancova",
      "userId": "12338395437089192895"
     },
     "user_tz": -120
    },
    "id": "xqu_3r2Wd9zv",
    "outputId": "803e56ab-15b5-4f45-a04b-7b0e9440e6d1"
   },
   "outputs": [
    {
     "name": "stdout",
     "output_type": "stream",
     "text": [
      "0.13719588663155255\n"
     ]
    }
   ],
   "source": [
    "clf.fit(X_train, years_train)\n",
    "\n",
    "timestamp = time.strftime(\"%Y%m%d-%H%M\")\n",
    "\n",
    "y_pred = clf.predict(X_test)\n",
    "\n",
    "score = accuracy_score(years_test, y_pred)\n",
    "print(score)"
   ]
  },
  {
   "cell_type": "markdown",
   "metadata": {
    "id": "jlGz38red9zw"
   },
   "source": [
    "## Save model"
   ]
  },
  {
   "cell_type": "code",
   "execution_count": null,
   "metadata": {
    "colab": {
     "base_uri": "https://localhost:8080/"
    },
    "executionInfo": {
     "elapsed": 309,
     "status": "ok",
     "timestamp": 1687344100136,
     "user": {
      "displayName": "Alexandra Barancova",
      "userId": "12338395437089192895"
     },
     "user_tz": -120
    },
    "id": "iIKADOhWd9zx",
    "outputId": "8a9ac929-34b4-452c-d8c5-063dd0f17829"
   },
   "outputs": [
    {
     "name": "stdout",
     "output_type": "stream",
     "text": [
      "Saved 20230621-1033.pkl\n"
     ]
    }
   ],
   "source": [
    "savePKL(clf, model_folder + f'{timestamp}.pkl')"
   ]
  }
 ],
 "metadata": {
  "colab": {
   "collapsed_sections": [
    "QCeHa8WMQGV9"
   ],
   "provenance": []
  },
  "interpreter": {
   "hash": "916dbcbb3f70747c44a77c7bcd40155683ae19c65e1c03b4aa3499c5328201f1"
  },
  "kernelspec": {
   "display_name": "Python 3 (ipykernel)",
   "language": "python",
   "name": "python3"
  },
  "language_info": {
   "codemirror_mode": {
    "name": "ipython",
    "version": 3
   },
   "file_extension": ".py",
   "mimetype": "text/x-python",
   "name": "python",
   "nbconvert_exporter": "python",
   "pygments_lexer": "ipython3",
   "version": "3.10.9"
  }
 },
 "nbformat": 4,
 "nbformat_minor": 1
}
