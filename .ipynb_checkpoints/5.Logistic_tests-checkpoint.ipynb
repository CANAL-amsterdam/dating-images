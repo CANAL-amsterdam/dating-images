{
 "cells": [
  {
   "cell_type": "markdown",
   "metadata": {
    "id": "5AyAD4w8bbbF"
   },
   "source": [
    "# 6. Evaluating and experimenting with the fine-tuned classifier\n",
    "\n",
    "This notebook includes some of the tests we did with the logistic classifier that we trained on OpenCLIP image embeddings. Alongside evaluating the Mean Absolute Error (MAE) of the model, we explored the differences in MAE between the various scenes. As reported in the paper, this analysis proved to be inconclusive at this stage, given large differences in the within-scene error rates."
   ]
  },
  {
   "cell_type": "code",
   "execution_count": null,
   "metadata": {
    "id": "st5EHD5Zzis9"
   },
   "outputs": [],
   "source": [
    "from google.colab import drive\n",
    "\n",
    "import pickle\n",
    "import json\n",
    "import math\n",
    "import matplotlib.pyplot as plt\n",
    "import numpy as np\n",
    "import pandas as pd\n",
    "\n",
    "from sklearn.metrics import accuracy_score, confusion_matrix, mean_absolute_error"
   ]
  },
  {
   "cell_type": "code",
   "execution_count": null,
   "metadata": {
    "colab": {
     "base_uri": "https://localhost:8080/"
    },
    "executionInfo": {
     "elapsed": 18024,
     "status": "ok",
     "timestamp": 1688464962515,
     "user": {
      "displayName": "Alexandra Barancova",
      "userId": "12338395437089192895"
     },
     "user_tz": -120
    },
    "id": "Z0LyTbXTz0gA",
    "outputId": "37ebc054-9e66-45b1-8e4d-a05c7d6137f0"
   },
   "outputs": [
    {
     "name": "stdout",
     "output_type": "stream",
     "text": [
      "Mounted at /content/drive\n"
     ]
    }
   ],
   "source": [
    "drive.mount('/content/drive', force_remount=True)"
   ]
  },
  {
   "cell_type": "markdown",
   "metadata": {
    "id": "v8uLy2kN0hfe"
   },
   "source": [
    "## Load data"
   ]
  },
  {
   "cell_type": "code",
   "execution_count": null,
   "metadata": {
    "id": "Sg0nXN-bAMzQ"
   },
   "outputs": [],
   "source": [
    "# helpers to load and save pickle and json files\n",
    "\n",
    "def loadPKL(path):\n",
    "  infile = open(path,'rb')\n",
    "  X = pickle.load(infile)\n",
    "  print('Loaded ' + path.split('/')[-1])\n",
    "  return X\n",
    "\n",
    "def savePKL(data, path):\n",
    "  with open(path, 'wb') as f:\n",
    "    pickle.dump(data, f)\n",
    "  print('Saved ' + path.split('/')[-1])\n",
    "\n",
    "def loadJSON(path):\n",
    "  infile = open(path,'rb')\n",
    "  X = json.load(infile)\n",
    "  print('Loaded ' + path.split('/')[-1])\n",
    "  return X\n",
    "\n",
    "def saveJSON(data, path):\n",
    "  with open(path, 'w') as jsonfile:\n",
    "    json.dump(data, jsonfile)\n",
    "  print('Saved ' + path.split('/')[-1])"
   ]
  },
  {
   "cell_type": "code",
   "execution_count": null,
   "metadata": {
    "id": "H5PRbvSldYYw"
   },
   "outputs": [],
   "source": [
    "root_dir = '/content/drive/MyDrive/dating-images'\n",
    "data_folder = root_dir + '/data/'\n",
    "model_folder = root_dir + '/models/'\n",
    "fig_folder = root_dir + '/figures/'"
   ]
  },
  {
   "cell_type": "code",
   "execution_count": null,
   "metadata": {
    "colab": {
     "base_uri": "https://localhost:8080/"
    },
    "executionInfo": {
     "elapsed": 4620,
     "status": "ok",
     "timestamp": 1688464967134,
     "user": {
      "displayName": "Alexandra Barancova",
      "userId": "12338395437089192895"
     },
     "user_tz": -120
    },
    "id": "hYMCpEjvjzOf",
    "outputId": "754b00c7-3835-4015-a25e-860c3c5b84ce"
   },
   "outputs": [
    {
     "name": "stdout",
     "output_type": "stream",
     "text": [
      "Loaded image_data.json\n",
      "Loaded embeddings.pkl\n",
      "Loaded embeddings_colorized.pkl\n"
     ]
    }
   ],
   "source": [
    "image_data = loadJSON(data_folder + 'image_data.json')\n",
    "embeddings = loadPKL(data_folder + 'embeddings.pkl')\n",
    "embeddings_colorized = loadPKL(data_folder + 'embeddings_colorized.pkl')"
   ]
  },
  {
   "cell_type": "code",
   "execution_count": null,
   "metadata": {
    "id": "VuXLeMd2ClsD"
   },
   "outputs": [],
   "source": [
    "# image_data = [[path, data, year, scene, train/test], ... ]\n",
    "years = list(zip(*image_data))[2]\n",
    "scenes = list(zip(*image_data))[3]\n",
    "\n",
    "print(years[:10])\n",
    "print(scenes[:10])"
   ]
  },
  {
   "cell_type": "markdown",
   "metadata": {
    "id": "EcTCNhFbaRf3"
   },
   "source": [
    "## Split data into train/test sets"
   ]
  },
  {
   "cell_type": "code",
   "execution_count": null,
   "metadata": {
    "id": "3KO3fcXmD6Gl"
   },
   "outputs": [],
   "source": [
    "# image_data = [[path, data, year, scene, train/test], ... ]\n",
    "\n",
    "def split_train_test_sets(image_data, list_to_split):\n",
    "  train = []\n",
    "  test = []\n",
    "  for i, item in enumerate(image_data):\n",
    "    if item[-1]=='train':\n",
    "      train.append(list_to_split[i])\n",
    "      continue\n",
    "    if item[-1]=='test':\n",
    "      test.append(list_to_split[i])\n",
    "      continue\n",
    "    else:\n",
    "      print(\"train/test set not assigned for image index \" + str(i)) # this shouldn't happen\n",
    "  return train, test"
   ]
  },
  {
   "cell_type": "code",
   "execution_count": null,
   "metadata": {
    "id": "Vzu8w-321I5T"
   },
   "outputs": [],
   "source": [
    "X_train, X_test = split_train_test_sets(image_data, embeddings)\n",
    "X_colorized_train, X_colorized_test = split_train_test_sets(image_data, embeddings_colorized)\n",
    "\n",
    "years_train, years_test = split_train_test_sets(image_data, years)\n",
    "scenes_train, scenes_test = split_train_test_sets(image_data, scenes)"
   ]
  },
  {
   "cell_type": "markdown",
   "metadata": {
    "id": "7D7CgI_V0oPm"
   },
   "source": [
    "## Load trained models"
   ]
  },
  {
   "cell_type": "code",
   "execution_count": null,
   "metadata": {
    "colab": {
     "base_uri": "https://localhost:8080/"
    },
    "executionInfo": {
     "elapsed": 791,
     "status": "ok",
     "timestamp": 1688464968246,
     "user": {
      "displayName": "Alexandra Barancova",
      "userId": "12338395437089192895"
     },
     "user_tz": -120
    },
    "id": "R3SNLUaR0Gtw",
    "outputId": "19207433-0574-402c-dd2e-d9dc42cc5e12"
   },
   "outputs": [
    {
     "name": "stdout",
     "output_type": "stream",
     "text": [
      "Loaded 20230621-1014_logistic_year.pkl\n",
      "Loaded 20230621-1033_logistic_year_colorized.pkl\n"
     ]
    }
   ],
   "source": [
    "classifier = loadPKL(model_folder + '20230621-1014_logistic_year.pkl')\n",
    "classifier_colorized = loadPKL(model_folder + '20230621-1033_logistic_year_colorized.pkl')"
   ]
  },
  {
   "cell_type": "markdown",
   "metadata": {
    "id": "VjQ6UXeDayAn"
   },
   "source": [
    "### Classifier accuracy"
   ]
  },
  {
   "cell_type": "markdown",
   "metadata": {
    "id": "7F9yXW9vnVvE"
   },
   "source": [
    "Trained and evaluated on the original grey-scale photographs."
   ]
  },
  {
   "cell_type": "code",
   "execution_count": null,
   "metadata": {
    "colab": {
     "base_uri": "https://localhost:8080/"
    },
    "executionInfo": {
     "elapsed": 286,
     "status": "ok",
     "timestamp": 1688464968530,
     "user": {
      "displayName": "Alexandra Barancova",
      "userId": "12338395437089192895"
     },
     "user_tz": -120
    },
    "id": "QLYgzqGd3cQ5",
    "outputId": "2128caf4-ac1d-47b0-e74d-c68784dcd1cf"
   },
   "outputs": [
    {
     "name": "stdout",
     "output_type": "stream",
     "text": [
      "0.13719588663155255\n"
     ]
    }
   ],
   "source": [
    "years_pred = classifier.predict(X_test)\n",
    "score = accuracy_score(years_test, years_pred)\n",
    "print(score)"
   ]
  },
  {
   "cell_type": "markdown",
   "metadata": {
    "id": "B9Xwlj55neCu"
   },
   "source": [
    "Trained and evaluated on the colorized photographs."
   ]
  },
  {
   "cell_type": "code",
   "execution_count": null,
   "metadata": {
    "colab": {
     "base_uri": "https://localhost:8080/"
    },
    "executionInfo": {
     "elapsed": 3,
     "status": "ok",
     "timestamp": 1688464968531,
     "user": {
      "displayName": "Alexandra Barancova",
      "userId": "12338395437089192895"
     },
     "user_tz": -120
    },
    "id": "H_v3RQ4N34Qc",
    "outputId": "7d1a3a13-9324-48f5-eaba-b2cd52657c4b"
   },
   "outputs": [
    {
     "name": "stdout",
     "output_type": "stream",
     "text": [
      "0.13355906696764486\n"
     ]
    }
   ],
   "source": [
    "years_colorized_pred = classifier_colorized.predict(X_colorized_test)\n",
    "score_colorized = accuracy_score(years_test, years_colorized_pred)\n",
    "print(score_colorized)"
   ]
  },
  {
   "cell_type": "markdown",
   "metadata": {
    "id": "aEKOAPnsfU9X"
   },
   "source": [
    "## Mean Absolute Error"
   ]
  },
  {
   "cell_type": "code",
   "execution_count": null,
   "metadata": {
    "colab": {
     "base_uri": "https://localhost:8080/"
    },
    "executionInfo": {
     "elapsed": 214,
     "status": "ok",
     "timestamp": 1687947524053,
     "user": {
      "displayName": "Melvin Wevers",
      "userId": "11314280559625114800"
     },
     "user_tz": -120
    },
    "id": "Ldhb8hrqfYu4",
    "outputId": "e2ba2b87-6855-4d8a-bcc8-c0407395cfb3"
   },
   "outputs": [
    {
     "name": "stdout",
     "output_type": "stream",
     "text": [
      "6.646476047153248\n"
     ]
    }
   ],
   "source": [
    "print(mean_absolute_error(years_test, years_pred))"
   ]
  },
  {
   "cell_type": "code",
   "execution_count": null,
   "metadata": {
    "colab": {
     "base_uri": "https://localhost:8080/"
    },
    "executionInfo": {
     "elapsed": 247,
     "status": "ok",
     "timestamp": 1687947526443,
     "user": {
      "displayName": "Melvin Wevers",
      "userId": "11314280559625114800"
     },
     "user_tz": -120
    },
    "id": "P73Drwc0qZ5f",
    "outputId": "d9ec118a-c1ae-43db-ae01-27a42859db01"
   },
   "outputs": [
    {
     "name": "stdout",
     "output_type": "stream",
     "text": [
      "6.794958615500376\n"
     ]
    }
   ],
   "source": [
    "print(mean_absolute_error(years_test, years_colorized_pred)) # for colorized photographs"
   ]
  },
  {
   "cell_type": "markdown",
   "metadata": {
    "id": "oUWmlxdse0RY"
   },
   "source": [
    "## Error"
   ]
  },
  {
   "cell_type": "code",
   "execution_count": null,
   "metadata": {
    "colab": {
     "base_uri": "https://localhost:8080/",
     "height": 424
    },
    "executionInfo": {
     "elapsed": 310,
     "status": "ok",
     "timestamp": 1688464974388,
     "user": {
      "displayName": "Alexandra Barancova",
      "userId": "12338395437089192895"
     },
     "user_tz": -120
    },
    "id": "c4BpcfFtTJbk",
    "outputId": "f9a1ccfe-da58-45fe-f12a-4e80d9bf7153"
   },
   "outputs": [
    {
     "data": {
      "text/html": [
       "\n",
       "  <div id=\"df-b1db0e87-8d0f-4d89-ad50-7b758d4ec0b0\">\n",
       "    <div class=\"colab-df-container\">\n",
       "      <div>\n",
       "<style scoped>\n",
       "    .dataframe tbody tr th:only-of-type {\n",
       "        vertical-align: middle;\n",
       "    }\n",
       "\n",
       "    .dataframe tbody tr th {\n",
       "        vertical-align: top;\n",
       "    }\n",
       "\n",
       "    .dataframe thead th {\n",
       "        text-align: right;\n",
       "    }\n",
       "</style>\n",
       "<table border=\"1\" class=\"dataframe\">\n",
       "  <thead>\n",
       "    <tr style=\"text-align: right;\">\n",
       "      <th></th>\n",
       "      <th>year</th>\n",
       "      <th>predicted_year</th>\n",
       "      <th>error_bw</th>\n",
       "      <th>error_colorized</th>\n",
       "      <th>absolute_error</th>\n",
       "      <th>scene</th>\n",
       "    </tr>\n",
       "  </thead>\n",
       "  <tbody>\n",
       "    <tr>\n",
       "      <th>0</th>\n",
       "      <td>1954</td>\n",
       "      <td>1957</td>\n",
       "      <td>-3</td>\n",
       "      <td>2</td>\n",
       "      <td>3</td>\n",
       "      <td>group_portrait</td>\n",
       "    </tr>\n",
       "    <tr>\n",
       "      <th>1</th>\n",
       "      <td>1991</td>\n",
       "      <td>1984</td>\n",
       "      <td>7</td>\n",
       "      <td>7</td>\n",
       "      <td>7</td>\n",
       "      <td>group_portrait</td>\n",
       "    </tr>\n",
       "    <tr>\n",
       "      <th>2</th>\n",
       "      <td>1972</td>\n",
       "      <td>1970</td>\n",
       "      <td>2</td>\n",
       "      <td>2</td>\n",
       "      <td>2</td>\n",
       "      <td>soccer</td>\n",
       "    </tr>\n",
       "    <tr>\n",
       "      <th>3</th>\n",
       "      <td>1986</td>\n",
       "      <td>1988</td>\n",
       "      <td>-2</td>\n",
       "      <td>0</td>\n",
       "      <td>2</td>\n",
       "      <td>saint_niclaus</td>\n",
       "    </tr>\n",
       "    <tr>\n",
       "      <th>4</th>\n",
       "      <td>1984</td>\n",
       "      <td>1990</td>\n",
       "      <td>-6</td>\n",
       "      <td>-1</td>\n",
       "      <td>6</td>\n",
       "      <td>playground</td>\n",
       "    </tr>\n",
       "    <tr>\n",
       "      <th>...</th>\n",
       "      <td>...</td>\n",
       "      <td>...</td>\n",
       "      <td>...</td>\n",
       "      <td>...</td>\n",
       "      <td>...</td>\n",
       "      <td>...</td>\n",
       "    </tr>\n",
       "    <tr>\n",
       "      <th>7969</th>\n",
       "      <td>1968</td>\n",
       "      <td>1971</td>\n",
       "      <td>-3</td>\n",
       "      <td>-3</td>\n",
       "      <td>3</td>\n",
       "      <td>welcome_goodbye</td>\n",
       "    </tr>\n",
       "    <tr>\n",
       "      <th>7970</th>\n",
       "      <td>1978</td>\n",
       "      <td>1975</td>\n",
       "      <td>3</td>\n",
       "      <td>-7</td>\n",
       "      <td>3</td>\n",
       "      <td>building</td>\n",
       "    </tr>\n",
       "    <tr>\n",
       "      <th>7971</th>\n",
       "      <td>1975</td>\n",
       "      <td>1990</td>\n",
       "      <td>-15</td>\n",
       "      <td>-11</td>\n",
       "      <td>15</td>\n",
       "      <td>animals_misc</td>\n",
       "    </tr>\n",
       "    <tr>\n",
       "      <th>7972</th>\n",
       "      <td>1989</td>\n",
       "      <td>1986</td>\n",
       "      <td>3</td>\n",
       "      <td>0</td>\n",
       "      <td>3</td>\n",
       "      <td>dancing</td>\n",
       "    </tr>\n",
       "    <tr>\n",
       "      <th>7973</th>\n",
       "      <td>1984</td>\n",
       "      <td>1978</td>\n",
       "      <td>6</td>\n",
       "      <td>4</td>\n",
       "      <td>6</td>\n",
       "      <td>market</td>\n",
       "    </tr>\n",
       "  </tbody>\n",
       "</table>\n",
       "<p>7974 rows × 6 columns</p>\n",
       "</div>\n",
       "      <button class=\"colab-df-convert\" onclick=\"convertToInteractive('df-b1db0e87-8d0f-4d89-ad50-7b758d4ec0b0')\"\n",
       "              title=\"Convert this dataframe to an interactive table.\"\n",
       "              style=\"display:none;\">\n",
       "        \n",
       "  <svg xmlns=\"http://www.w3.org/2000/svg\" height=\"24px\"viewBox=\"0 0 24 24\"\n",
       "       width=\"24px\">\n",
       "    <path d=\"M0 0h24v24H0V0z\" fill=\"none\"/>\n",
       "    <path d=\"M18.56 5.44l.94 2.06.94-2.06 2.06-.94-2.06-.94-.94-2.06-.94 2.06-2.06.94zm-11 1L8.5 8.5l.94-2.06 2.06-.94-2.06-.94L8.5 2.5l-.94 2.06-2.06.94zm10 10l.94 2.06.94-2.06 2.06-.94-2.06-.94-.94-2.06-.94 2.06-2.06.94z\"/><path d=\"M17.41 7.96l-1.37-1.37c-.4-.4-.92-.59-1.43-.59-.52 0-1.04.2-1.43.59L10.3 9.45l-7.72 7.72c-.78.78-.78 2.05 0 2.83L4 21.41c.39.39.9.59 1.41.59.51 0 1.02-.2 1.41-.59l7.78-7.78 2.81-2.81c.8-.78.8-2.07 0-2.86zM5.41 20L4 18.59l7.72-7.72 1.47 1.35L5.41 20z\"/>\n",
       "  </svg>\n",
       "      </button>\n",
       "      \n",
       "  <style>\n",
       "    .colab-df-container {\n",
       "      display:flex;\n",
       "      flex-wrap:wrap;\n",
       "      gap: 12px;\n",
       "    }\n",
       "\n",
       "    .colab-df-convert {\n",
       "      background-color: #E8F0FE;\n",
       "      border: none;\n",
       "      border-radius: 50%;\n",
       "      cursor: pointer;\n",
       "      display: none;\n",
       "      fill: #1967D2;\n",
       "      height: 32px;\n",
       "      padding: 0 0 0 0;\n",
       "      width: 32px;\n",
       "    }\n",
       "\n",
       "    .colab-df-convert:hover {\n",
       "      background-color: #E2EBFA;\n",
       "      box-shadow: 0px 1px 2px rgba(60, 64, 67, 0.3), 0px 1px 3px 1px rgba(60, 64, 67, 0.15);\n",
       "      fill: #174EA6;\n",
       "    }\n",
       "\n",
       "    [theme=dark] .colab-df-convert {\n",
       "      background-color: #3B4455;\n",
       "      fill: #D2E3FC;\n",
       "    }\n",
       "\n",
       "    [theme=dark] .colab-df-convert:hover {\n",
       "      background-color: #434B5C;\n",
       "      box-shadow: 0px 1px 3px 1px rgba(0, 0, 0, 0.15);\n",
       "      filter: drop-shadow(0px 1px 2px rgba(0, 0, 0, 0.3));\n",
       "      fill: #FFFFFF;\n",
       "    }\n",
       "  </style>\n",
       "\n",
       "      <script>\n",
       "        const buttonEl =\n",
       "          document.querySelector('#df-b1db0e87-8d0f-4d89-ad50-7b758d4ec0b0 button.colab-df-convert');\n",
       "        buttonEl.style.display =\n",
       "          google.colab.kernel.accessAllowed ? 'block' : 'none';\n",
       "\n",
       "        async function convertToInteractive(key) {\n",
       "          const element = document.querySelector('#df-b1db0e87-8d0f-4d89-ad50-7b758d4ec0b0');\n",
       "          const dataTable =\n",
       "            await google.colab.kernel.invokeFunction('convertToInteractive',\n",
       "                                                     [key], {});\n",
       "          if (!dataTable) return;\n",
       "\n",
       "          const docLinkHtml = 'Like what you see? Visit the ' +\n",
       "            '<a target=\"_blank\" href=https://colab.research.google.com/notebooks/data_table.ipynb>data table notebook</a>'\n",
       "            + ' to learn more about interactive tables.';\n",
       "          element.innerHTML = '';\n",
       "          dataTable['output_type'] = 'display_data';\n",
       "          await google.colab.output.renderOutput(dataTable, element);\n",
       "          const docLink = document.createElement('div');\n",
       "          docLink.innerHTML = docLinkHtml;\n",
       "          element.appendChild(docLink);\n",
       "        }\n",
       "      </script>\n",
       "    </div>\n",
       "  </div>\n",
       "  "
      ],
      "text/plain": [
       "      year  predicted_year  error_bw  error_colorized  absolute_error  \\\n",
       "0     1954            1957        -3                2               3   \n",
       "1     1991            1984         7                7               7   \n",
       "2     1972            1970         2                2               2   \n",
       "3     1986            1988        -2                0               2   \n",
       "4     1984            1990        -6               -1               6   \n",
       "...    ...             ...       ...              ...             ...   \n",
       "7969  1968            1971        -3               -3               3   \n",
       "7970  1978            1975         3               -7               3   \n",
       "7971  1975            1990       -15              -11              15   \n",
       "7972  1989            1986         3                0               3   \n",
       "7973  1984            1978         6                4               6   \n",
       "\n",
       "                scene  \n",
       "0      group_portrait  \n",
       "1      group_portrait  \n",
       "2              soccer  \n",
       "3       saint_niclaus  \n",
       "4          playground  \n",
       "...               ...  \n",
       "7969  welcome_goodbye  \n",
       "7970         building  \n",
       "7971     animals_misc  \n",
       "7972          dancing  \n",
       "7973           market  \n",
       "\n",
       "[7974 rows x 6 columns]"
      ]
     },
     "execution_count": 13,
     "metadata": {},
     "output_type": "execute_result"
    }
   ],
   "source": [
    "df = pd.DataFrame({\"year\": years_test, \"predicted_year\": years_pred, \"error_bw\": (years_test-years_pred), \"error_colorized\": (years_test-years_colorized_pred), \"absolute_error\": abs(years_test-years_pred), \"scene\": scenes_test})\n",
    "df"
   ]
  },
  {
   "cell_type": "markdown",
   "metadata": {
    "id": "TQC2UST93w9F"
   },
   "source": [
    "### Plot histogram of errors for gray-scale and color predictions"
   ]
  },
  {
   "cell_type": "code",
   "execution_count": null,
   "metadata": {
    "colab": {
     "base_uri": "https://localhost:8080/",
     "height": 472
    },
    "executionInfo": {
     "elapsed": 2097,
     "status": "ok",
     "timestamp": 1687947729245,
     "user": {
      "displayName": "Melvin Wevers",
      "userId": "11314280559625114800"
     },
     "user_tz": -120
    },
    "id": "N7olrX9ohNgk",
    "outputId": "9b95e303-b278-42cc-9d2a-49f0914a942a"
   },
   "outputs": [
    {
     "data": {
      "image/png": "[encoded data removed]",
      "text/plain": [
       "<Figure size 640x480 with 1 Axes>"
      ]
     },
     "metadata": {},
     "output_type": "display_data"
    }
   ],
   "source": [
    "ax = df[['error_bw', 'error_colorized']].plot.hist(alpha=0.7, bins=50)\n",
    "\n",
    "ax.set_xlabel('Error in Years')\n",
    "ax.set_ylabel('Frequency')\n",
    "ax.set_title('Histogram of Errors for B/W and Colorized Images')\n",
    "\n",
    "\n",
    "plt.savefig(fig_folder + 'fine_tuned_histogram.png', bbox_inches='tight', dpi=300)\n",
    "plt.show()"
   ]
  },
  {
   "cell_type": "code",
   "execution_count": null,
   "metadata": {
    "colab": {
     "base_uri": "https://localhost:8080/"
    },
    "executionInfo": {
     "elapsed": 270,
     "status": "ok",
     "timestamp": 1687947757418,
     "user": {
      "displayName": "Melvin Wevers",
      "userId": "11314280559625114800"
     },
     "user_tz": -120
    },
    "id": "Iki8W7ujhmfo",
    "outputId": "7aabb897-7683-4a4b-d4e7-43441a2be273"
   },
   "outputs": [
    {
     "name": "stdout",
     "output_type": "stream",
     "text": [
      "K-S statistic: 0.008778530223225483\n",
      "p-value: 0.9184591646949297\n"
     ]
    }
   ],
   "source": [
    "from scipy import stats\n",
    "# Perform the two-sample K-S test\n",
    "ks_statistic, p_value = stats.ks_2samp(df['error_bw'], df['error_colorized'])\n",
    "\n",
    "print('K-S statistic:', ks_statistic)\n",
    "print('p-value:', p_value)"
   ]
  },
  {
   "cell_type": "markdown",
   "metadata": {
    "id": "w0e3bJV7jC1w"
   },
   "source": [
    "## MAE across scenes - gray-scale"
   ]
  },
  {
   "cell_type": "code",
   "execution_count": null,
   "metadata": {
    "colab": {
     "base_uri": "https://localhost:8080/"
    },
    "executionInfo": {
     "elapsed": 337,
     "status": "ok",
     "timestamp": 1688138448218,
     "user": {
      "displayName": "Alexandra Barancova",
      "userId": "12338395437089192895"
     },
     "user_tz": -120
    },
    "id": "BAJPbml0wTR5",
    "outputId": "fc48cd05-3488-4e97-bc5e-a07290e1ec00"
   },
   "outputs": [
    {
     "name": "stdout",
     "output_type": "stream",
     "text": [
      "casino\n",
      "14\n",
      "windsurfing\n",
      "13\n",
      "board_game\n",
      "3\n",
      "boxing\n",
      "17\n",
      "landfill\n",
      "23\n",
      "playing_cards\n",
      "21\n",
      "133\n"
     ]
    }
   ],
   "source": [
    "# make a list of scenes occuring 25 or more times in the dataset to use as a filter\n",
    "\n",
    "high_freq_scenes = []\n",
    "\n",
    "for scene in set(scenes):\n",
    "  if scenes.count(scene) >= 25:\n",
    "    high_freq_scenes.append(scene)\n",
    "  else:\n",
    "    print(scene)\n",
    "    print(scenes.count(scene))\n",
    "\n",
    "print(len(high_freq_scenes))"
   ]
  },
  {
   "cell_type": "code",
   "execution_count": null,
   "metadata": {
    "id": "yhtjjSPHvhw_"
   },
   "outputs": [],
   "source": [
    "df_test = pd.DataFrame({\"year\":years_test, \"predicted_year\":years_pred, \"absolute_error\": abs(years_test-years_pred), \"scene\": scenes_test })"
   ]
  },
  {
   "cell_type": "code",
   "execution_count": null,
   "metadata": {
    "id": "fw02rWoQI_Gx"
   },
   "outputs": [],
   "source": [
    "df_train = pd.DataFrame({\"year\": years_train, \"scene\":scenes_train })"
   ]
  },
  {
   "cell_type": "code",
   "execution_count": null,
   "metadata": {
    "colab": {
     "base_uri": "https://localhost:8080/",
     "height": 820
    },
    "executionInfo": {
     "elapsed": 223,
     "status": "ok",
     "timestamp": 1688137654050,
     "user": {
      "displayName": "Alexandra Barancova",
      "userId": "12338395437089192895"
     },
     "user_tz": -120
    },
    "id": "Cyyf_m3DvhyM",
    "outputId": "15b0f5d9-8ec4-4d89-d87d-dc7d9b3377e7"
   },
   "outputs": [
    {
     "data": {
      "text/html": [
       "\n",
       "  <div id=\"df-b15dc3da-c290-42bd-b9a3-89807b4bde46\">\n",
       "    <div class=\"colab-df-container\">\n",
       "      <div>\n",
       "<style scoped>\n",
       "    .dataframe tbody tr th:only-of-type {\n",
       "        vertical-align: middle;\n",
       "    }\n",
       "\n",
       "    .dataframe tbody tr th {\n",
       "        vertical-align: top;\n",
       "    }\n",
       "\n",
       "    .dataframe thead th {\n",
       "        text-align: right;\n",
       "    }\n",
       "</style>\n",
       "<table border=\"1\" class=\"dataframe\">\n",
       "  <thead>\n",
       "    <tr style=\"text-align: right;\">\n",
       "      <th></th>\n",
       "      <th>frequency_train</th>\n",
       "      <th>min_year_train</th>\n",
       "      <th>max_year_train</th>\n",
       "      <th>mean_absolute_error_test</th>\n",
       "      <th>std</th>\n",
       "    </tr>\n",
       "    <tr>\n",
       "      <th>scene</th>\n",
       "      <th></th>\n",
       "      <th></th>\n",
       "      <th></th>\n",
       "      <th></th>\n",
       "      <th></th>\n",
       "    </tr>\n",
       "  </thead>\n",
       "  <tbody>\n",
       "    <tr>\n",
       "      <th>cow</th>\n",
       "      <td>48</td>\n",
       "      <td>1951</td>\n",
       "      <td>1999</td>\n",
       "      <td>2.43</td>\n",
       "      <td>2.13</td>\n",
       "    </tr>\n",
       "    <tr>\n",
       "      <th>billiards</th>\n",
       "      <td>30</td>\n",
       "      <td>1951</td>\n",
       "      <td>1999</td>\n",
       "      <td>3.43</td>\n",
       "      <td>3.06</td>\n",
       "    </tr>\n",
       "    <tr>\n",
       "      <th>road_biking</th>\n",
       "      <td>151</td>\n",
       "      <td>1954</td>\n",
       "      <td>1999</td>\n",
       "      <td>3.55</td>\n",
       "      <td>4.07</td>\n",
       "    </tr>\n",
       "    <tr>\n",
       "      <th>golf</th>\n",
       "      <td>67</td>\n",
       "      <td>1955</td>\n",
       "      <td>1998</td>\n",
       "      <td>4.27</td>\n",
       "      <td>2.59</td>\n",
       "    </tr>\n",
       "    <tr>\n",
       "      <th>swan</th>\n",
       "      <td>30</td>\n",
       "      <td>1951</td>\n",
       "      <td>1999</td>\n",
       "      <td>4.40</td>\n",
       "      <td>4.32</td>\n",
       "    </tr>\n",
       "    <tr>\n",
       "      <th>...</th>\n",
       "      <td>...</td>\n",
       "      <td>...</td>\n",
       "      <td>...</td>\n",
       "      <td>...</td>\n",
       "      <td>...</td>\n",
       "    </tr>\n",
       "    <tr>\n",
       "      <th>amphitheater</th>\n",
       "      <td>45</td>\n",
       "      <td>1950</td>\n",
       "      <td>1999</td>\n",
       "      <td>10.71</td>\n",
       "      <td>13.68</td>\n",
       "    </tr>\n",
       "    <tr>\n",
       "      <th>table_tennis</th>\n",
       "      <td>67</td>\n",
       "      <td>1953</td>\n",
       "      <td>1998</td>\n",
       "      <td>10.90</td>\n",
       "      <td>7.63</td>\n",
       "    </tr>\n",
       "    <tr>\n",
       "      <th>excavation</th>\n",
       "      <td>34</td>\n",
       "      <td>1950</td>\n",
       "      <td>1997</td>\n",
       "      <td>13.78</td>\n",
       "      <td>10.93</td>\n",
       "    </tr>\n",
       "    <tr>\n",
       "      <th>buiten_zwembad</th>\n",
       "      <td>54</td>\n",
       "      <td>1951</td>\n",
       "      <td>1999</td>\n",
       "      <td>14.00</td>\n",
       "      <td>11.85</td>\n",
       "    </tr>\n",
       "    <tr>\n",
       "      <th>windmill</th>\n",
       "      <td>45</td>\n",
       "      <td>1950</td>\n",
       "      <td>1998</td>\n",
       "      <td>15.71</td>\n",
       "      <td>11.60</td>\n",
       "    </tr>\n",
       "  </tbody>\n",
       "</table>\n",
       "<p>133 rows × 5 columns</p>\n",
       "</div>\n",
       "      <button class=\"colab-df-convert\" onclick=\"convertToInteractive('df-b15dc3da-c290-42bd-b9a3-89807b4bde46')\"\n",
       "              title=\"Convert this dataframe to an interactive table.\"\n",
       "              style=\"display:none;\">\n",
       "        \n",
       "  <svg xmlns=\"http://www.w3.org/2000/svg\" height=\"24px\"viewBox=\"0 0 24 24\"\n",
       "       width=\"24px\">\n",
       "    <path d=\"M0 0h24v24H0V0z\" fill=\"none\"/>\n",
       "    <path d=\"M18.56 5.44l.94 2.06.94-2.06 2.06-.94-2.06-.94-.94-2.06-.94 2.06-2.06.94zm-11 1L8.5 8.5l.94-2.06 2.06-.94-2.06-.94L8.5 2.5l-.94 2.06-2.06.94zm10 10l.94 2.06.94-2.06 2.06-.94-2.06-.94-.94-2.06-.94 2.06-2.06.94z\"/><path d=\"M17.41 7.96l-1.37-1.37c-.4-.4-.92-.59-1.43-.59-.52 0-1.04.2-1.43.59L10.3 9.45l-7.72 7.72c-.78.78-.78 2.05 0 2.83L4 21.41c.39.39.9.59 1.41.59.51 0 1.02-.2 1.41-.59l7.78-7.78 2.81-2.81c.8-.78.8-2.07 0-2.86zM5.41 20L4 18.59l7.72-7.72 1.47 1.35L5.41 20z\"/>\n",
       "  </svg>\n",
       "      </button>\n",
       "      \n",
       "  <style>\n",
       "    .colab-df-container {\n",
       "      display:flex;\n",
       "      flex-wrap:wrap;\n",
       "      gap: 12px;\n",
       "    }\n",
       "\n",
       "    .colab-df-convert {\n",
       "      background-color: #E8F0FE;\n",
       "      border: none;\n",
       "      border-radius: 50%;\n",
       "      cursor: pointer;\n",
       "      display: none;\n",
       "      fill: #1967D2;\n",
       "      height: 32px;\n",
       "      padding: 0 0 0 0;\n",
       "      width: 32px;\n",
       "    }\n",
       "\n",
       "    .colab-df-convert:hover {\n",
       "      background-color: #E2EBFA;\n",
       "      box-shadow: 0px 1px 2px rgba(60, 64, 67, 0.3), 0px 1px 3px 1px rgba(60, 64, 67, 0.15);\n",
       "      fill: #174EA6;\n",
       "    }\n",
       "\n",
       "    [theme=dark] .colab-df-convert {\n",
       "      background-color: #3B4455;\n",
       "      fill: #D2E3FC;\n",
       "    }\n",
       "\n",
       "    [theme=dark] .colab-df-convert:hover {\n",
       "      background-color: #434B5C;\n",
       "      box-shadow: 0px 1px 3px 1px rgba(0, 0, 0, 0.15);\n",
       "      filter: drop-shadow(0px 1px 2px rgba(0, 0, 0, 0.3));\n",
       "      fill: #FFFFFF;\n",
       "    }\n",
       "  </style>\n",
       "\n",
       "      <script>\n",
       "        const buttonEl =\n",
       "          document.querySelector('#df-b15dc3da-c290-42bd-b9a3-89807b4bde46 button.colab-df-convert');\n",
       "        buttonEl.style.display =\n",
       "          google.colab.kernel.accessAllowed ? 'block' : 'none';\n",
       "\n",
       "        async function convertToInteractive(key) {\n",
       "          const element = document.querySelector('#df-b15dc3da-c290-42bd-b9a3-89807b4bde46');\n",
       "          const dataTable =\n",
       "            await google.colab.kernel.invokeFunction('convertToInteractive',\n",
       "                                                     [key], {});\n",
       "          if (!dataTable) return;\n",
       "\n",
       "          const docLinkHtml = 'Like what you see? Visit the ' +\n",
       "            '<a target=\"_blank\" href=https://colab.research.google.com/notebooks/data_table.ipynb>data table notebook</a>'\n",
       "            + ' to learn more about interactive tables.';\n",
       "          element.innerHTML = '';\n",
       "          dataTable['output_type'] = 'display_data';\n",
       "          await google.colab.output.renderOutput(dataTable, element);\n",
       "          const docLink = document.createElement('div');\n",
       "          docLink.innerHTML = docLinkHtml;\n",
       "          element.appendChild(docLink);\n",
       "        }\n",
       "      </script>\n",
       "    </div>\n",
       "  </div>\n",
       "  "
      ],
      "text/plain": [
       "                frequency_train  min_year_train  max_year_train  \\\n",
       "scene                                                             \n",
       "cow                          48            1951            1999   \n",
       "billiards                    30            1951            1999   \n",
       "road_biking                 151            1954            1999   \n",
       "golf                         67            1955            1998   \n",
       "swan                         30            1951            1999   \n",
       "...                         ...             ...             ...   \n",
       "amphitheater                 45            1950            1999   \n",
       "table_tennis                 67            1953            1998   \n",
       "excavation                   34            1950            1997   \n",
       "buiten_zwembad               54            1951            1999   \n",
       "windmill                     45            1950            1998   \n",
       "\n",
       "                mean_absolute_error_test    std  \n",
       "scene                                            \n",
       "cow                                 2.43   2.13  \n",
       "billiards                           3.43   3.06  \n",
       "road_biking                         3.55   4.07  \n",
       "golf                                4.27   2.59  \n",
       "swan                                4.40   4.32  \n",
       "...                                  ...    ...  \n",
       "amphitheater                       10.71  13.68  \n",
       "table_tennis                       10.90   7.63  \n",
       "excavation                         13.78  10.93  \n",
       "buiten_zwembad                     14.00  11.85  \n",
       "windmill                           15.71  11.60  \n",
       "\n",
       "[133 rows x 5 columns]"
      ]
     },
     "execution_count": 37,
     "metadata": {},
     "output_type": "execute_result"
    }
   ],
   "source": [
    "# from training data\n",
    "scene_frequencies = df_train.groupby('scene').count()\n",
    "min_years = df_train.groupby('scene').min()[['year']]\n",
    "max_years = df_train.groupby('scene').max()[['year']]\n",
    "mean_train_years = df_train.groupby('scene').mean()[['year']]\n",
    "\n",
    "# from predictions on test data\n",
    "test_means = df_test.groupby('scene').mean()[['absolute_error', 'year']]\n",
    "std_errors = df_test.groupby('scene')['absolute_error'].std(ddof=0)\n",
    "\n",
    "df_scenes = pd.DataFrame()\n",
    "\n",
    "df_scenes['frequency_train'] = scene_frequencies\n",
    "df_scenes['min_year_train'] = min_years\n",
    "df_scenes['max_year_train'] = max_years\n",
    "\n",
    "df_scenes['mean_absolute_error_test'] = test_means['absolute_error']\n",
    "df_scenes['std'] = std_errors\n",
    "\n",
    "df_scenes.filter(items=high_freq_scenes, axis=0).sort_values('mean_absolute_error_test').round(2)"
   ]
  },
  {
   "cell_type": "markdown",
   "metadata": {
    "id": "21dDANksT4I4"
   },
   "source": [
    "## MAE across scenes - colorized"
   ]
  },
  {
   "cell_type": "code",
   "execution_count": null,
   "metadata": {
    "id": "QOfW_oq1T4I4"
   },
   "outputs": [],
   "source": [
    "df_test = pd.DataFrame({\"year\":years_test, \"predicted_year\":years_colorized_pred, \"absolute_error\": abs(years_test-years_colorized_pred), \"scene\": scenes_test })"
   ]
  },
  {
   "cell_type": "code",
   "execution_count": null,
   "metadata": {
    "id": "tiItX9hkT4I4"
   },
   "outputs": [],
   "source": [
    "df_train = pd.DataFrame({\"year\": years_train, \"scene\":scenes_train })"
   ]
  },
  {
   "cell_type": "code",
   "execution_count": null,
   "metadata": {
    "colab": {
     "base_uri": "https://localhost:8080/",
     "height": 455
    },
    "executionInfo": {
     "elapsed": 227,
     "status": "ok",
     "timestamp": 1688137541153,
     "user": {
      "displayName": "Alexandra Barancova",
      "userId": "12338395437089192895"
     },
     "user_tz": -120
    },
    "id": "YzJFnlhZT4I4",
    "outputId": "84106fe2-ac68-4543-ada2-6827540f2771"
   },
   "outputs": [
    {
     "data": {
      "text/html": [
       "\n",
       "  <div id=\"df-8f973b9a-4f59-4112-9803-64be9aab36ec\">\n",
       "    <div class=\"colab-df-container\">\n",
       "      <div>\n",
       "<style scoped>\n",
       "    .dataframe tbody tr th:only-of-type {\n",
       "        vertical-align: middle;\n",
       "    }\n",
       "\n",
       "    .dataframe tbody tr th {\n",
       "        vertical-align: top;\n",
       "    }\n",
       "\n",
       "    .dataframe thead th {\n",
       "        text-align: right;\n",
       "    }\n",
       "</style>\n",
       "<table border=\"1\" class=\"dataframe\">\n",
       "  <thead>\n",
       "    <tr style=\"text-align: right;\">\n",
       "      <th></th>\n",
       "      <th>frequency_train</th>\n",
       "      <th>min_year_train</th>\n",
       "      <th>max_year_train</th>\n",
       "      <th>mean_year_train</th>\n",
       "      <th>mean_year_test</th>\n",
       "      <th>mean_absolute_error_test</th>\n",
       "      <th>std</th>\n",
       "    </tr>\n",
       "    <tr>\n",
       "      <th>scene</th>\n",
       "      <th></th>\n",
       "      <th></th>\n",
       "      <th></th>\n",
       "      <th></th>\n",
       "      <th></th>\n",
       "      <th></th>\n",
       "      <th></th>\n",
       "    </tr>\n",
       "  </thead>\n",
       "  <tbody>\n",
       "    <tr>\n",
       "      <th>swan</th>\n",
       "      <td>30</td>\n",
       "      <td>1951</td>\n",
       "      <td>1999</td>\n",
       "      <td>1982.43</td>\n",
       "      <td>1970.20</td>\n",
       "      <td>2.80</td>\n",
       "      <td>2.64</td>\n",
       "    </tr>\n",
       "    <tr>\n",
       "      <th>tram</th>\n",
       "      <td>42</td>\n",
       "      <td>1950</td>\n",
       "      <td>1999</td>\n",
       "      <td>1967.95</td>\n",
       "      <td>1976.25</td>\n",
       "      <td>3.00</td>\n",
       "      <td>2.12</td>\n",
       "    </tr>\n",
       "    <tr>\n",
       "      <th>road_biking</th>\n",
       "      <td>151</td>\n",
       "      <td>1954</td>\n",
       "      <td>1999</td>\n",
       "      <td>1980.15</td>\n",
       "      <td>1980.07</td>\n",
       "      <td>3.21</td>\n",
       "      <td>2.76</td>\n",
       "    </tr>\n",
       "    <tr>\n",
       "      <th>accident_stretcher</th>\n",
       "      <td>22</td>\n",
       "      <td>1965</td>\n",
       "      <td>1998</td>\n",
       "      <td>1981.18</td>\n",
       "      <td>1973.20</td>\n",
       "      <td>3.40</td>\n",
       "      <td>3.80</td>\n",
       "    </tr>\n",
       "    <tr>\n",
       "      <th>soapbox_race</th>\n",
       "      <td>37</td>\n",
       "      <td>1950</td>\n",
       "      <td>1996</td>\n",
       "      <td>1963.97</td>\n",
       "      <td>1962.67</td>\n",
       "      <td>3.67</td>\n",
       "      <td>2.87</td>\n",
       "    </tr>\n",
       "    <tr>\n",
       "      <th>...</th>\n",
       "      <td>...</td>\n",
       "      <td>...</td>\n",
       "      <td>...</td>\n",
       "      <td>...</td>\n",
       "      <td>...</td>\n",
       "      <td>...</td>\n",
       "      <td>...</td>\n",
       "    </tr>\n",
       "    <tr>\n",
       "      <th>windmill</th>\n",
       "      <td>45</td>\n",
       "      <td>1950</td>\n",
       "      <td>1998</td>\n",
       "      <td>1977.47</td>\n",
       "      <td>1971.79</td>\n",
       "      <td>11.57</td>\n",
       "      <td>6.62</td>\n",
       "    </tr>\n",
       "    <tr>\n",
       "      <th>rowing</th>\n",
       "      <td>36</td>\n",
       "      <td>1950</td>\n",
       "      <td>1999</td>\n",
       "      <td>1981.44</td>\n",
       "      <td>1979.77</td>\n",
       "      <td>11.77</td>\n",
       "      <td>12.52</td>\n",
       "    </tr>\n",
       "    <tr>\n",
       "      <th>marial_arts</th>\n",
       "      <td>53</td>\n",
       "      <td>1953</td>\n",
       "      <td>1999</td>\n",
       "      <td>1980.28</td>\n",
       "      <td>1981.09</td>\n",
       "      <td>12.36</td>\n",
       "      <td>8.18</td>\n",
       "    </tr>\n",
       "    <tr>\n",
       "      <th>pond</th>\n",
       "      <td>58</td>\n",
       "      <td>1950</td>\n",
       "      <td>1999</td>\n",
       "      <td>1977.60</td>\n",
       "      <td>1980.00</td>\n",
       "      <td>13.07</td>\n",
       "      <td>13.07</td>\n",
       "    </tr>\n",
       "    <tr>\n",
       "      <th>helicopter</th>\n",
       "      <td>22</td>\n",
       "      <td>1953</td>\n",
       "      <td>1997</td>\n",
       "      <td>1973.36</td>\n",
       "      <td>1974.67</td>\n",
       "      <td>14.33</td>\n",
       "      <td>10.80</td>\n",
       "    </tr>\n",
       "  </tbody>\n",
       "</table>\n",
       "<p>133 rows × 7 columns</p>\n",
       "</div>\n",
       "      <button class=\"colab-df-convert\" onclick=\"convertToInteractive('df-8f973b9a-4f59-4112-9803-64be9aab36ec')\"\n",
       "              title=\"Convert this dataframe to an interactive table.\"\n",
       "              style=\"display:none;\">\n",
       "        \n",
       "  <svg xmlns=\"http://www.w3.org/2000/svg\" height=\"24px\"viewBox=\"0 0 24 24\"\n",
       "       width=\"24px\">\n",
       "    <path d=\"M0 0h24v24H0V0z\" fill=\"none\"/>\n",
       "    <path d=\"M18.56 5.44l.94 2.06.94-2.06 2.06-.94-2.06-.94-.94-2.06-.94 2.06-2.06.94zm-11 1L8.5 8.5l.94-2.06 2.06-.94-2.06-.94L8.5 2.5l-.94 2.06-2.06.94zm10 10l.94 2.06.94-2.06 2.06-.94-2.06-.94-.94-2.06-.94 2.06-2.06.94z\"/><path d=\"M17.41 7.96l-1.37-1.37c-.4-.4-.92-.59-1.43-.59-.52 0-1.04.2-1.43.59L10.3 9.45l-7.72 7.72c-.78.78-.78 2.05 0 2.83L4 21.41c.39.39.9.59 1.41.59.51 0 1.02-.2 1.41-.59l7.78-7.78 2.81-2.81c.8-.78.8-2.07 0-2.86zM5.41 20L4 18.59l7.72-7.72 1.47 1.35L5.41 20z\"/>\n",
       "  </svg>\n",
       "      </button>\n",
       "      \n",
       "  <style>\n",
       "    .colab-df-container {\n",
       "      display:flex;\n",
       "      flex-wrap:wrap;\n",
       "      gap: 12px;\n",
       "    }\n",
       "\n",
       "    .colab-df-convert {\n",
       "      background-color: #E8F0FE;\n",
       "      border: none;\n",
       "      border-radius: 50%;\n",
       "      cursor: pointer;\n",
       "      display: none;\n",
       "      fill: #1967D2;\n",
       "      height: 32px;\n",
       "      padding: 0 0 0 0;\n",
       "      width: 32px;\n",
       "    }\n",
       "\n",
       "    .colab-df-convert:hover {\n",
       "      background-color: #E2EBFA;\n",
       "      box-shadow: 0px 1px 2px rgba(60, 64, 67, 0.3), 0px 1px 3px 1px rgba(60, 64, 67, 0.15);\n",
       "      fill: #174EA6;\n",
       "    }\n",
       "\n",
       "    [theme=dark] .colab-df-convert {\n",
       "      background-color: #3B4455;\n",
       "      fill: #D2E3FC;\n",
       "    }\n",
       "\n",
       "    [theme=dark] .colab-df-convert:hover {\n",
       "      background-color: #434B5C;\n",
       "      box-shadow: 0px 1px 3px 1px rgba(0, 0, 0, 0.15);\n",
       "      filter: drop-shadow(0px 1px 2px rgba(0, 0, 0, 0.3));\n",
       "      fill: #FFFFFF;\n",
       "    }\n",
       "  </style>\n",
       "\n",
       "      <script>\n",
       "        const buttonEl =\n",
       "          document.querySelector('#df-8f973b9a-4f59-4112-9803-64be9aab36ec button.colab-df-convert');\n",
       "        buttonEl.style.display =\n",
       "          google.colab.kernel.accessAllowed ? 'block' : 'none';\n",
       "\n",
       "        async function convertToInteractive(key) {\n",
       "          const element = document.querySelector('#df-8f973b9a-4f59-4112-9803-64be9aab36ec');\n",
       "          const dataTable =\n",
       "            await google.colab.kernel.invokeFunction('convertToInteractive',\n",
       "                                                     [key], {});\n",
       "          if (!dataTable) return;\n",
       "\n",
       "          const docLinkHtml = 'Like what you see? Visit the ' +\n",
       "            '<a target=\"_blank\" href=https://colab.research.google.com/notebooks/data_table.ipynb>data table notebook</a>'\n",
       "            + ' to learn more about interactive tables.';\n",
       "          element.innerHTML = '';\n",
       "          dataTable['output_type'] = 'display_data';\n",
       "          await google.colab.output.renderOutput(dataTable, element);\n",
       "          const docLink = document.createElement('div');\n",
       "          docLink.innerHTML = docLinkHtml;\n",
       "          element.appendChild(docLink);\n",
       "        }\n",
       "      </script>\n",
       "    </div>\n",
       "  </div>\n",
       "  "
      ],
      "text/plain": [
       "                    frequency_train  min_year_train  max_year_train  \\\n",
       "scene                                                                 \n",
       "swan                             30            1951            1999   \n",
       "tram                             42            1950            1999   \n",
       "road_biking                     151            1954            1999   \n",
       "accident_stretcher               22            1965            1998   \n",
       "soapbox_race                     37            1950            1996   \n",
       "...                             ...             ...             ...   \n",
       "windmill                         45            1950            1998   \n",
       "rowing                           36            1950            1999   \n",
       "marial_arts                      53            1953            1999   \n",
       "pond                             58            1950            1999   \n",
       "helicopter                       22            1953            1997   \n",
       "\n",
       "                    mean_year_train  mean_year_test  mean_absolute_error_test  \\\n",
       "scene                                                                           \n",
       "swan                        1982.43         1970.20                      2.80   \n",
       "tram                        1967.95         1976.25                      3.00   \n",
       "road_biking                 1980.15         1980.07                      3.21   \n",
       "accident_stretcher          1981.18         1973.20                      3.40   \n",
       "soapbox_race                1963.97         1962.67                      3.67   \n",
       "...                             ...             ...                       ...   \n",
       "windmill                    1977.47         1971.79                     11.57   \n",
       "rowing                      1981.44         1979.77                     11.77   \n",
       "marial_arts                 1980.28         1981.09                     12.36   \n",
       "pond                        1977.60         1980.00                     13.07   \n",
       "helicopter                  1973.36         1974.67                     14.33   \n",
       "\n",
       "                      std  \n",
       "scene                      \n",
       "swan                 2.64  \n",
       "tram                 2.12  \n",
       "road_biking          2.76  \n",
       "accident_stretcher   3.80  \n",
       "soapbox_race         2.87  \n",
       "...                   ...  \n",
       "windmill             6.62  \n",
       "rowing              12.52  \n",
       "marial_arts          8.18  \n",
       "pond                13.07  \n",
       "helicopter          10.80  \n",
       "\n",
       "[133 rows x 7 columns]"
      ]
     },
     "execution_count": 32,
     "metadata": {},
     "output_type": "execute_result"
    }
   ],
   "source": [
    "# from training data\n",
    "scene_frequencies = df_train.groupby('scene').count()\n",
    "min_years = df_train.groupby('scene').min()[['year']]\n",
    "max_years = df_train.groupby('scene').max()[['year']]\n",
    "mean_train_years = df_train.groupby('scene').mean()[['year']]\n",
    "\n",
    "# from predictions on test data\n",
    "test_means = df_test.groupby('scene').mean()[['absolute_error', 'year']]\n",
    "std_errors = df_test.groupby('scene')['absolute_error'].std(ddof=0)\n",
    "\n",
    "df_scenes = pd.DataFrame()\n",
    "\n",
    "df_scenes['frequency_train'] = scene_frequencies\n",
    "df_scenes['min_year_train'] = min_years\n",
    "df_scenes['max_year_train'] = max_years\n",
    "\n",
    "df_scenes['mean_absolute_error_test'] = test_means['absolute_error']\n",
    "df_scenes['std'] = std_errors\n",
    "\n",
    "\n",
    "df_scenes.filter(items=high_freq_scenes, axis=0).sort_values('mean_absolute_error_test').round(2)"
   ]
  },
  {
   "cell_type": "markdown",
   "metadata": {
    "id": "QX84mcZk5s18"
   },
   "source": [
    "## Shifts\n",
    "\n",
    "For some images colorization had a large impact on error (increasing or decreasing the absolute error), while for others the date predictions remained similar across the two image versions. Here we examined these shifts in error across the scenes."
   ]
  },
  {
   "cell_type": "code",
   "execution_count": null,
   "metadata": {
    "colab": {
     "base_uri": "https://localhost:8080/",
     "height": 650
    },
    "executionInfo": {
     "elapsed": 8,
     "status": "ok",
     "timestamp": 1688138683183,
     "user": {
      "displayName": "Alexandra Barancova",
      "userId": "12338395437089192895"
     },
     "user_tz": -120
    },
    "id": "Ixf_KRgU5ryI",
    "outputId": "9d2f682c-bac7-4697-b88a-271ecd6722cc"
   },
   "outputs": [
    {
     "data": {
      "text/html": [
       "\n",
       "  <div id=\"df-05c7315c-b456-4b0e-8ad5-26f297a5334f\">\n",
       "    <div class=\"colab-df-container\">\n",
       "      <div>\n",
       "<style scoped>\n",
       "    .dataframe tbody tr th:only-of-type {\n",
       "        vertical-align: middle;\n",
       "    }\n",
       "\n",
       "    .dataframe tbody tr th {\n",
       "        vertical-align: top;\n",
       "    }\n",
       "\n",
       "    .dataframe thead th {\n",
       "        text-align: right;\n",
       "    }\n",
       "</style>\n",
       "<table border=\"1\" class=\"dataframe\">\n",
       "  <thead>\n",
       "    <tr style=\"text-align: right;\">\n",
       "      <th></th>\n",
       "      <th>error_grayscale</th>\n",
       "      <th>error_colorized</th>\n",
       "      <th>shift</th>\n",
       "    </tr>\n",
       "    <tr>\n",
       "      <th>scene</th>\n",
       "      <th></th>\n",
       "      <th></th>\n",
       "      <th></th>\n",
       "    </tr>\n",
       "  </thead>\n",
       "  <tbody>\n",
       "    <tr>\n",
       "      <th>excavation</th>\n",
       "      <td>13.78</td>\n",
       "      <td>6.78</td>\n",
       "      <td>-7.00</td>\n",
       "    </tr>\n",
       "    <tr>\n",
       "      <th>soapbox_race</th>\n",
       "      <td>9.33</td>\n",
       "      <td>3.67</td>\n",
       "      <td>-5.67</td>\n",
       "    </tr>\n",
       "    <tr>\n",
       "      <th>buiten_zwembad</th>\n",
       "      <td>14.00</td>\n",
       "      <td>8.50</td>\n",
       "      <td>-5.50</td>\n",
       "    </tr>\n",
       "    <tr>\n",
       "      <th>tram</th>\n",
       "      <td>7.25</td>\n",
       "      <td>3.00</td>\n",
       "      <td>-4.25</td>\n",
       "    </tr>\n",
       "    <tr>\n",
       "      <th>accident_stretcher</th>\n",
       "      <td>7.60</td>\n",
       "      <td>3.40</td>\n",
       "      <td>-4.20</td>\n",
       "    </tr>\n",
       "    <tr>\n",
       "      <th>...</th>\n",
       "      <td>...</td>\n",
       "      <td>...</td>\n",
       "      <td>...</td>\n",
       "    </tr>\n",
       "    <tr>\n",
       "      <th>motorcycle</th>\n",
       "      <td>4.89</td>\n",
       "      <td>9.58</td>\n",
       "      <td>4.68</td>\n",
       "    </tr>\n",
       "    <tr>\n",
       "      <th>rowing</th>\n",
       "      <td>6.92</td>\n",
       "      <td>11.77</td>\n",
       "      <td>4.85</td>\n",
       "    </tr>\n",
       "    <tr>\n",
       "      <th>marial_arts</th>\n",
       "      <td>6.27</td>\n",
       "      <td>12.36</td>\n",
       "      <td>6.09</td>\n",
       "    </tr>\n",
       "    <tr>\n",
       "      <th>billiards</th>\n",
       "      <td>3.43</td>\n",
       "      <td>10.43</td>\n",
       "      <td>7.00</td>\n",
       "    </tr>\n",
       "    <tr>\n",
       "      <th>pond</th>\n",
       "      <td>5.27</td>\n",
       "      <td>13.07</td>\n",
       "      <td>7.80</td>\n",
       "    </tr>\n",
       "  </tbody>\n",
       "</table>\n",
       "<p>133 rows × 3 columns</p>\n",
       "</div>\n",
       "      <button class=\"colab-df-convert\" onclick=\"convertToInteractive('df-05c7315c-b456-4b0e-8ad5-26f297a5334f')\"\n",
       "              title=\"Convert this dataframe to an interactive table.\"\n",
       "              style=\"display:none;\">\n",
       "        \n",
       "  <svg xmlns=\"http://www.w3.org/2000/svg\" height=\"24px\"viewBox=\"0 0 24 24\"\n",
       "       width=\"24px\">\n",
       "    <path d=\"M0 0h24v24H0V0z\" fill=\"none\"/>\n",
       "    <path d=\"M18.56 5.44l.94 2.06.94-2.06 2.06-.94-2.06-.94-.94-2.06-.94 2.06-2.06.94zm-11 1L8.5 8.5l.94-2.06 2.06-.94-2.06-.94L8.5 2.5l-.94 2.06-2.06.94zm10 10l.94 2.06.94-2.06 2.06-.94-2.06-.94-.94-2.06-.94 2.06-2.06.94z\"/><path d=\"M17.41 7.96l-1.37-1.37c-.4-.4-.92-.59-1.43-.59-.52 0-1.04.2-1.43.59L10.3 9.45l-7.72 7.72c-.78.78-.78 2.05 0 2.83L4 21.41c.39.39.9.59 1.41.59.51 0 1.02-.2 1.41-.59l7.78-7.78 2.81-2.81c.8-.78.8-2.07 0-2.86zM5.41 20L4 18.59l7.72-7.72 1.47 1.35L5.41 20z\"/>\n",
       "  </svg>\n",
       "      </button>\n",
       "      \n",
       "  <style>\n",
       "    .colab-df-container {\n",
       "      display:flex;\n",
       "      flex-wrap:wrap;\n",
       "      gap: 12px;\n",
       "    }\n",
       "\n",
       "    .colab-df-convert {\n",
       "      background-color: #E8F0FE;\n",
       "      border: none;\n",
       "      border-radius: 50%;\n",
       "      cursor: pointer;\n",
       "      display: none;\n",
       "      fill: #1967D2;\n",
       "      height: 32px;\n",
       "      padding: 0 0 0 0;\n",
       "      width: 32px;\n",
       "    }\n",
       "\n",
       "    .colab-df-convert:hover {\n",
       "      background-color: #E2EBFA;\n",
       "      box-shadow: 0px 1px 2px rgba(60, 64, 67, 0.3), 0px 1px 3px 1px rgba(60, 64, 67, 0.15);\n",
       "      fill: #174EA6;\n",
       "    }\n",
       "\n",
       "    [theme=dark] .colab-df-convert {\n",
       "      background-color: #3B4455;\n",
       "      fill: #D2E3FC;\n",
       "    }\n",
       "\n",
       "    [theme=dark] .colab-df-convert:hover {\n",
       "      background-color: #434B5C;\n",
       "      box-shadow: 0px 1px 3px 1px rgba(0, 0, 0, 0.15);\n",
       "      filter: drop-shadow(0px 1px 2px rgba(0, 0, 0, 0.3));\n",
       "      fill: #FFFFFF;\n",
       "    }\n",
       "  </style>\n",
       "\n",
       "      <script>\n",
       "        const buttonEl =\n",
       "          document.querySelector('#df-05c7315c-b456-4b0e-8ad5-26f297a5334f button.colab-df-convert');\n",
       "        buttonEl.style.display =\n",
       "          google.colab.kernel.accessAllowed ? 'block' : 'none';\n",
       "\n",
       "        async function convertToInteractive(key) {\n",
       "          const element = document.querySelector('#df-05c7315c-b456-4b0e-8ad5-26f297a5334f');\n",
       "          const dataTable =\n",
       "            await google.colab.kernel.invokeFunction('convertToInteractive',\n",
       "                                                     [key], {});\n",
       "          if (!dataTable) return;\n",
       "\n",
       "          const docLinkHtml = 'Like what you see? Visit the ' +\n",
       "            '<a target=\"_blank\" href=https://colab.research.google.com/notebooks/data_table.ipynb>data table notebook</a>'\n",
       "            + ' to learn more about interactive tables.';\n",
       "          element.innerHTML = '';\n",
       "          dataTable['output_type'] = 'display_data';\n",
       "          await google.colab.output.renderOutput(dataTable, element);\n",
       "          const docLink = document.createElement('div');\n",
       "          docLink.innerHTML = docLinkHtml;\n",
       "          element.appendChild(docLink);\n",
       "        }\n",
       "      </script>\n",
       "    </div>\n",
       "  </div>\n",
       "  "
      ],
      "text/plain": [
       "                    error_grayscale  error_colorized  shift\n",
       "scene                                                      \n",
       "excavation                    13.78             6.78  -7.00\n",
       "soapbox_race                   9.33             3.67  -5.67\n",
       "buiten_zwembad                14.00             8.50  -5.50\n",
       "tram                           7.25             3.00  -4.25\n",
       "accident_stretcher             7.60             3.40  -4.20\n",
       "...                             ...              ...    ...\n",
       "motorcycle                     4.89             9.58   4.68\n",
       "rowing                         6.92            11.77   4.85\n",
       "marial_arts                    6.27            12.36   6.09\n",
       "billiards                      3.43            10.43   7.00\n",
       "pond                           5.27            13.07   7.80\n",
       "\n",
       "[133 rows x 3 columns]"
      ]
     },
     "execution_count": 39,
     "metadata": {},
     "output_type": "execute_result"
    }
   ],
   "source": [
    "df_s = pd.DataFrame({\"scene\": scenes_test, \"error_grayscale\":abs(years_test-years_pred), \"error_colorized\": abs(years_test-years_colorized_pred)})\n",
    "df_shifts = df_s.groupby('scene').mean()[['error_grayscale', 'error_colorized' ]]\n",
    "df_shifts['shift'] = df_shifts['error_colorized'] - df_shifts['error_grayscale']\n",
    "df_shifts.filter(items=high_freq_scenes, axis=0).sort_values('shift').round(2)"
   ]
  }
 ],
 "metadata": {
  "colab": {
   "provenance": [],
   "toc_visible": true
  },
  "kernelspec": {
   "display_name": "Python 3 (ipykernel)",
   "language": "python",
   "name": "python3"
  },
  "language_info": {
   "codemirror_mode": {
    "name": "ipython",
    "version": 3
   },
   "file_extension": ".py",
   "mimetype": "text/x-python",
   "name": "python",
   "nbconvert_exporter": "python",
   "pygments_lexer": "ipython3",
   "version": "3.10.9"
  }
 },
 "nbformat": 4,
 "nbformat_minor": 1
}
